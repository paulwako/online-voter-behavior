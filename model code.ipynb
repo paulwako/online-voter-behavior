{
 "cells": [
  {
   "cell_type": "code",
   "execution_count": 125,
   "id": "d3ca3a5f",
   "metadata": {},
   "outputs": [],
   "source": [
    "import pandas as pd\n",
    "import seaborn as sns\n",
    "import numpy as np\n",
    "from sklearn.model_selection import train_test_split\n",
    "from sklearn.metrics import accuracy_score\n",
    "from sklearn.tree import DecisionTreeClassifier\n",
    "import joblib"
   ]
  },
  {
   "cell_type": "code",
   "execution_count": 106,
   "id": "67372fab",
   "metadata": {},
   "outputs": [
    {
     "data": {
      "text/html": [
       "<div>\n",
       "<style scoped>\n",
       "    .dataframe tbody tr th:only-of-type {\n",
       "        vertical-align: middle;\n",
       "    }\n",
       "\n",
       "    .dataframe tbody tr th {\n",
       "        vertical-align: top;\n",
       "    }\n",
       "\n",
       "    .dataframe thead th {\n",
       "        text-align: right;\n",
       "    }\n",
       "</style>\n",
       "<table border=\"1\" class=\"dataframe\">\n",
       "  <thead>\n",
       "    <tr style=\"text-align: right;\">\n",
       "      <th></th>\n",
       "      <th>political_party</th>\n",
       "      <th>followers_on_twiter</th>\n",
       "      <th>twiter_post</th>\n",
       "      <th>twiter_likes</th>\n",
       "      <th>twiter_dislikes</th>\n",
       "      <th>facebook_followers</th>\n",
       "      <th>facebook_posts</th>\n",
       "      <th>positive_facebook_coments</th>\n",
       "      <th>facebook_negative_comments</th>\n",
       "      <th>facebook_share</th>\n",
       "      <th>IG_followers</th>\n",
       "      <th>instagram_post</th>\n",
       "      <th>positive_IG_feedback</th>\n",
       "      <th>negative_IG_feedback</th>\n",
       "      <th>posibility</th>\n",
       "    </tr>\n",
       "  </thead>\n",
       "  <tbody>\n",
       "    <tr>\n",
       "      <th>0</th>\n",
       "      <td>ODM</td>\n",
       "      <td>1.2</td>\n",
       "      <td>100</td>\n",
       "      <td>200</td>\n",
       "      <td>200</td>\n",
       "      <td>0.700</td>\n",
       "      <td>150</td>\n",
       "      <td>2000</td>\n",
       "      <td>100</td>\n",
       "      <td>50</td>\n",
       "      <td>0.5</td>\n",
       "      <td>40</td>\n",
       "      <td>200</td>\n",
       "      <td>20</td>\n",
       "      <td>1</td>\n",
       "    </tr>\n",
       "    <tr>\n",
       "      <th>1</th>\n",
       "      <td>JUBILEE</td>\n",
       "      <td>1.4</td>\n",
       "      <td>30</td>\n",
       "      <td>200</td>\n",
       "      <td>100</td>\n",
       "      <td>0.600</td>\n",
       "      <td>10</td>\n",
       "      <td>0</td>\n",
       "      <td>90</td>\n",
       "      <td>2</td>\n",
       "      <td>0.7</td>\n",
       "      <td>10</td>\n",
       "      <td>100</td>\n",
       "      <td>100</td>\n",
       "      <td>1</td>\n",
       "    </tr>\n",
       "    <tr>\n",
       "      <th>2</th>\n",
       "      <td>THIRD PARTY ALLIANCE</td>\n",
       "      <td>1.8</td>\n",
       "      <td>50</td>\n",
       "      <td>100</td>\n",
       "      <td>2000</td>\n",
       "      <td>0.100</td>\n",
       "      <td>20</td>\n",
       "      <td>90</td>\n",
       "      <td>100</td>\n",
       "      <td>34</td>\n",
       "      <td>0.8</td>\n",
       "      <td>20</td>\n",
       "      <td>100</td>\n",
       "      <td>1000</td>\n",
       "      <td>0</td>\n",
       "    </tr>\n",
       "    <tr>\n",
       "      <th>3</th>\n",
       "      <td>NARC</td>\n",
       "      <td>3.2</td>\n",
       "      <td>200</td>\n",
       "      <td>200</td>\n",
       "      <td>1000</td>\n",
       "      <td>0.001</td>\n",
       "      <td>12</td>\n",
       "      <td>15</td>\n",
       "      <td>65</td>\n",
       "      <td>54</td>\n",
       "      <td>0.9</td>\n",
       "      <td>30</td>\n",
       "      <td>400</td>\n",
       "      <td>300</td>\n",
       "      <td>1</td>\n",
       "    </tr>\n",
       "    <tr>\n",
       "      <th>4</th>\n",
       "      <td>UDA</td>\n",
       "      <td>0.9</td>\n",
       "      <td>500</td>\n",
       "      <td>300</td>\n",
       "      <td>10</td>\n",
       "      <td>1.100</td>\n",
       "      <td>15</td>\n",
       "      <td>45</td>\n",
       "      <td>908</td>\n",
       "      <td>12</td>\n",
       "      <td>0.6</td>\n",
       "      <td>10</td>\n",
       "      <td>200</td>\n",
       "      <td>100</td>\n",
       "      <td>0</td>\n",
       "    </tr>\n",
       "  </tbody>\n",
       "</table>\n",
       "</div>"
      ],
      "text/plain": [
       "        political_party  followers_on_twiter  twiter_post  twiter_likes  \\\n",
       "0                   ODM                  1.2          100           200   \n",
       "1               JUBILEE                  1.4           30           200   \n",
       "2  THIRD PARTY ALLIANCE                  1.8           50           100   \n",
       "3                  NARC                  3.2          200           200   \n",
       "4                   UDA                  0.9          500           300   \n",
       "\n",
       "   twiter_dislikes  facebook_followers  facebook_posts  \\\n",
       "0              200               0.700             150   \n",
       "1              100               0.600              10   \n",
       "2             2000               0.100              20   \n",
       "3             1000               0.001              12   \n",
       "4               10               1.100              15   \n",
       "\n",
       "   positive_facebook_coments  facebook_negative_comments  facebook_share  \\\n",
       "0                       2000                         100              50   \n",
       "1                          0                          90               2   \n",
       "2                         90                         100              34   \n",
       "3                         15                          65              54   \n",
       "4                         45                         908              12   \n",
       "\n",
       "   IG_followers  instagram_post  positive_IG_feedback  negative_IG_feedback  \\\n",
       "0           0.5              40                   200                    20   \n",
       "1           0.7              10                   100                   100   \n",
       "2           0.8              20                   100                  1000   \n",
       "3           0.9              30                   400                   300   \n",
       "4           0.6              10                   200                   100   \n",
       "\n",
       "   posibility  \n",
       "0           1  \n",
       "1           1  \n",
       "2           0  \n",
       "3           1  \n",
       "4           0  "
      ]
     },
     "execution_count": 106,
     "metadata": {},
     "output_type": "execute_result"
    }
   ],
   "source": [
    "data = pd.read_csv('POLITICAL_DATASET.csv')\n",
    "data.head()"
   ]
  },
  {
   "cell_type": "code",
   "execution_count": 107,
   "id": "e36a6f75",
   "metadata": {},
   "outputs": [],
   "source": [
    "y = data['posibility']\n",
    "X = data.drop(['political_party','posibility'],axis=1)\n"
   ]
  },
  {
   "cell_type": "code",
   "execution_count": 108,
   "id": "9165e96a",
   "metadata": {},
   "outputs": [
    {
     "name": "stdout",
     "output_type": "stream",
     "text": [
      "   followers_on_twiter  twiter_post  twiter_likes  twiter_dislikes  \\\n",
      "0                  1.2          100           200              200   \n",
      "1                  1.4           30           200              100   \n",
      "2                  1.8           50           100             2000   \n",
      "3                  3.2          200           200             1000   \n",
      "4                  0.9          500           300               10   \n",
      "\n",
      "   facebook_followers  facebook_posts  positive_facebook_coments  \\\n",
      "0               0.700             150                       2000   \n",
      "1               0.600              10                          0   \n",
      "2               0.100              20                         90   \n",
      "3               0.001              12                         15   \n",
      "4               1.100              15                         45   \n",
      "\n",
      "   facebook_negative_comments  facebook_share  IG_followers  instagram_post  \\\n",
      "0                         100              50           0.5              40   \n",
      "1                          90               2           0.7              10   \n",
      "2                         100              34           0.8              20   \n",
      "3                          65              54           0.9              30   \n",
      "4                         908              12           0.6              10   \n",
      "\n",
      "   positive_IG_feedback  negative_IG_feedback  \n",
      "0                   200                    20  \n",
      "1                   100                   100  \n",
      "2                   100                  1000  \n",
      "3                   400                   300  \n",
      "4                   200                   100  \n",
      "0     1\n",
      "1     1\n",
      "2     0\n",
      "3     1\n",
      "4     0\n",
      "5     0\n",
      "6     0\n",
      "7     0\n",
      "8     0\n",
      "9     1\n",
      "10    0\n",
      "11    0\n",
      "12    1\n",
      "13    0\n",
      "14    1\n",
      "15    0\n",
      "16    0\n",
      "17    1\n",
      "18    1\n",
      "19    1\n",
      "20    0\n",
      "21    0\n",
      "22    0\n",
      "23    0\n",
      "24    0\n",
      "25    0\n",
      "26    1\n",
      "27    0\n",
      "28    0\n",
      "29    1\n",
      "30    0\n",
      "31    1\n",
      "32    1\n",
      "33    0\n",
      "34    0\n",
      "35    0\n",
      "36    0\n",
      "37    0\n",
      "38    0\n",
      "39    1\n",
      "40    1\n",
      "41    1\n",
      "42    0\n",
      "43    0\n",
      "44    0\n",
      "45    0\n",
      "46    1\n",
      "47    1\n",
      "48    1\n",
      "Name: posibility, dtype: int64\n"
     ]
    }
   ],
   "source": [
    "print(X.head())\n",
    "print(y)"
   ]
  },
  {
   "cell_type": "code",
   "execution_count": 109,
   "id": "53e6bc47",
   "metadata": {
    "scrolled": true
   },
   "outputs": [
    {
     "data": {
      "text/plain": [
       "array([1, 0], dtype=int64)"
      ]
     },
     "execution_count": 109,
     "metadata": {},
     "output_type": "execute_result"
    }
   ],
   "source": [
    "y.unique()"
   ]
  },
  {
   "cell_type": "code",
   "execution_count": 110,
   "id": "19f3b702",
   "metadata": {},
   "outputs": [],
   "source": [
    "X_train, X_test, y_train, y_test = train_test_split(X, y, test_size=0.25, random_state=0)"
   ]
  },
  {
   "cell_type": "code",
   "execution_count": 111,
   "id": "77ccfb68",
   "metadata": {},
   "outputs": [],
   "source": [
    "model= DecisionTreeClassifier()"
   ]
  },
  {
   "cell_type": "code",
   "execution_count": 112,
   "id": "f9c6bf2f",
   "metadata": {},
   "outputs": [
    {
     "data": {
      "text/plain": [
       "DecisionTreeClassifier()"
      ]
     },
     "execution_count": 112,
     "metadata": {},
     "output_type": "execute_result"
    }
   ],
   "source": [
    "model.fit(X_train, y_train)"
   ]
  },
  {
   "cell_type": "code",
   "execution_count": 115,
   "id": "5840e9aa",
   "metadata": {},
   "outputs": [],
   "source": [
    "pred = model.predict(X_test)"
   ]
  },
  {
   "cell_type": "code",
   "execution_count": 116,
   "id": "8ccdc53a",
   "metadata": {},
   "outputs": [
    {
     "data": {
      "text/plain": [
       "array([0, 1, 0, 0, 1, 0, 1, 1, 0, 1, 0, 1, 0], dtype=int64)"
      ]
     },
     "execution_count": 116,
     "metadata": {},
     "output_type": "execute_result"
    }
   ],
   "source": [
    "pred"
   ]
  },
  {
   "cell_type": "code",
   "execution_count": 118,
   "id": "da427b0f",
   "metadata": {},
   "outputs": [
    {
     "data": {
      "text/plain": [
       "0.6153846153846154"
      ]
     },
     "execution_count": 118,
     "metadata": {},
     "output_type": "execute_result"
    }
   ],
   "source": [
    "accuracy = accuracy_score(pred,y_test)\n",
    "accuracy"
   ]
  },
  {
   "cell_type": "code",
   "execution_count": 123,
   "id": "eaad1a3e",
   "metadata": {},
   "outputs": [],
   "source": [
    "preds=pd.DataFrame({\n",
    "    'followers_on_twiter':[0.4,0.1,0.75],\n",
    "    'twiter_post':[50,200,12],\n",
    "    'twiter_likes':[2,100,18],\n",
    "    'twiter_dislikes':[19,1000,290],\n",
    "    'facebook_followers':[0.5,0.5,0.15],\n",
    "    'facebook_posts':[20,60,100],\n",
    "    'positive_facebook_coments':[100,200,65],\n",
    "    'facebook_negative_comments':[1000,500,23],\n",
    "    'facebook_share':[10,0,0],\n",
    "    'IG_followers ':[0.7,0.9,0.1],\n",
    "    'instagram_post':[15,90,50],\n",
    "    'positive_IG_feedback':[200,1000,500],\n",
    "    'negative_IG_feedback' :[2000,1000,2],   \n",
    "})"
   ]
  },
  {
   "cell_type": "code",
   "execution_count": 124,
   "id": "abe09232",
   "metadata": {},
   "outputs": [
    {
     "name": "stdout",
     "output_type": "stream",
     "text": [
      "Politician has likely to win a seat\n",
      "Politician has likely to win a seat\n",
      "Politician has likely to win a seat\n",
      "Politician has likely to win a seat\n",
      "Politician has likely to win a seat\n",
      "Politician has likely to win a seat\n",
      "Politician has likely to win a seat\n",
      "Politician has likely to win a seat\n",
      "Politician has likely to win a seat\n",
      "Politician has likely to win a seat\n",
      "Politician has likely to win a seat\n",
      "Politician has likely to win a seat\n",
      "Politician has likely to win a seat\n"
     ]
    }
   ],
   "source": [
    "for pred in preds:\n",
    "    if pred == 1:\n",
    "        print('Politician is has little support')\n",
    "    else:\n",
    "        print('Politician has likely to win a seat')"
   ]
  },
  {
   "cell_type": "code",
   "execution_count": 126,
   "id": "10bec90e",
   "metadata": {},
   "outputs": [
    {
     "data": {
      "text/plain": [
       "['political_probability.pkl']"
      ]
     },
     "execution_count": 126,
     "metadata": {},
     "output_type": "execute_result"
    }
   ],
   "source": [
    "joblib.dump(model,'political_probability.pkl')"
   ]
  },
  {
   "cell_type": "code",
   "execution_count": null,
   "id": "58ca8f71",
   "metadata": {},
   "outputs": [],
   "source": []
  }
 ],
 "metadata": {
  "kernelspec": {
   "display_name": "Python 3 (ipykernel)",
   "language": "python",
   "name": "python3"
  },
  "language_info": {
   "codemirror_mode": {
    "name": "ipython",
    "version": 3
   },
   "file_extension": ".py",
   "mimetype": "text/x-python",
   "name": "python",
   "nbconvert_exporter": "python",
   "pygments_lexer": "ipython3",
   "version": "3.9.12"
  }
 },
 "nbformat": 4,
 "nbformat_minor": 5
}
